{
 "cells": [
  {
   "cell_type": "code",
   "execution_count": 1,
   "metadata": {},
   "outputs": [
    {
     "data": {
      "text/html": [
       "<div>\n",
       "<style scoped>\n",
       "    .dataframe tbody tr th:only-of-type {\n",
       "        vertical-align: middle;\n",
       "    }\n",
       "\n",
       "    .dataframe tbody tr th {\n",
       "        vertical-align: top;\n",
       "    }\n",
       "\n",
       "    .dataframe thead th {\n",
       "        text-align: right;\n",
       "    }\n",
       "</style>\n",
       "<table border=\"1\" class=\"dataframe\">\n",
       "  <thead>\n",
       "    <tr style=\"text-align: right;\">\n",
       "      <th></th>\n",
       "      <th>instant</th>\n",
       "      <th>dteday</th>\n",
       "      <th>season</th>\n",
       "      <th>yr</th>\n",
       "      <th>mnth</th>\n",
       "      <th>holiday</th>\n",
       "      <th>weekday</th>\n",
       "      <th>workingday</th>\n",
       "      <th>weathersit</th>\n",
       "      <th>temp</th>\n",
       "      <th>atemp</th>\n",
       "      <th>hum</th>\n",
       "      <th>windspeed</th>\n",
       "      <th>casual</th>\n",
       "      <th>registered</th>\n",
       "      <th>cnt</th>\n",
       "    </tr>\n",
       "  </thead>\n",
       "  <tbody>\n",
       "    <tr>\n",
       "      <th>0</th>\n",
       "      <td>1</td>\n",
       "      <td>2011-01-01</td>\n",
       "      <td>1</td>\n",
       "      <td>0</td>\n",
       "      <td>1</td>\n",
       "      <td>0</td>\n",
       "      <td>6</td>\n",
       "      <td>0</td>\n",
       "      <td>2</td>\n",
       "      <td>0.344167</td>\n",
       "      <td>0.363625</td>\n",
       "      <td>0.805833</td>\n",
       "      <td>0.160446</td>\n",
       "      <td>331</td>\n",
       "      <td>654</td>\n",
       "      <td>985</td>\n",
       "    </tr>\n",
       "    <tr>\n",
       "      <th>1</th>\n",
       "      <td>2</td>\n",
       "      <td>2011-01-02</td>\n",
       "      <td>1</td>\n",
       "      <td>0</td>\n",
       "      <td>1</td>\n",
       "      <td>0</td>\n",
       "      <td>0</td>\n",
       "      <td>0</td>\n",
       "      <td>2</td>\n",
       "      <td>0.363478</td>\n",
       "      <td>0.353739</td>\n",
       "      <td>0.696087</td>\n",
       "      <td>0.248539</td>\n",
       "      <td>131</td>\n",
       "      <td>670</td>\n",
       "      <td>801</td>\n",
       "    </tr>\n",
       "    <tr>\n",
       "      <th>2</th>\n",
       "      <td>3</td>\n",
       "      <td>2011-01-03</td>\n",
       "      <td>1</td>\n",
       "      <td>0</td>\n",
       "      <td>1</td>\n",
       "      <td>0</td>\n",
       "      <td>1</td>\n",
       "      <td>1</td>\n",
       "      <td>1</td>\n",
       "      <td>0.196364</td>\n",
       "      <td>0.189405</td>\n",
       "      <td>0.437273</td>\n",
       "      <td>0.248309</td>\n",
       "      <td>120</td>\n",
       "      <td>1229</td>\n",
       "      <td>1349</td>\n",
       "    </tr>\n",
       "    <tr>\n",
       "      <th>3</th>\n",
       "      <td>4</td>\n",
       "      <td>2011-01-04</td>\n",
       "      <td>1</td>\n",
       "      <td>0</td>\n",
       "      <td>1</td>\n",
       "      <td>0</td>\n",
       "      <td>2</td>\n",
       "      <td>1</td>\n",
       "      <td>1</td>\n",
       "      <td>0.200000</td>\n",
       "      <td>0.212122</td>\n",
       "      <td>0.590435</td>\n",
       "      <td>0.160296</td>\n",
       "      <td>108</td>\n",
       "      <td>1454</td>\n",
       "      <td>1562</td>\n",
       "    </tr>\n",
       "    <tr>\n",
       "      <th>4</th>\n",
       "      <td>5</td>\n",
       "      <td>2011-01-05</td>\n",
       "      <td>1</td>\n",
       "      <td>0</td>\n",
       "      <td>1</td>\n",
       "      <td>0</td>\n",
       "      <td>3</td>\n",
       "      <td>1</td>\n",
       "      <td>1</td>\n",
       "      <td>0.226957</td>\n",
       "      <td>0.229270</td>\n",
       "      <td>0.436957</td>\n",
       "      <td>0.186900</td>\n",
       "      <td>82</td>\n",
       "      <td>1518</td>\n",
       "      <td>1600</td>\n",
       "    </tr>\n",
       "  </tbody>\n",
       "</table>\n",
       "</div>"
      ],
      "text/plain": [
       "   instant      dteday  season  yr  mnth  holiday  weekday  workingday  \\\n",
       "0        1  2011-01-01       1   0     1        0        6           0   \n",
       "1        2  2011-01-02       1   0     1        0        0           0   \n",
       "2        3  2011-01-03       1   0     1        0        1           1   \n",
       "3        4  2011-01-04       1   0     1        0        2           1   \n",
       "4        5  2011-01-05       1   0     1        0        3           1   \n",
       "\n",
       "   weathersit      temp     atemp       hum  windspeed  casual  registered  \\\n",
       "0           2  0.344167  0.363625  0.805833   0.160446     331         654   \n",
       "1           2  0.363478  0.353739  0.696087   0.248539     131         670   \n",
       "2           1  0.196364  0.189405  0.437273   0.248309     120        1229   \n",
       "3           1  0.200000  0.212122  0.590435   0.160296     108        1454   \n",
       "4           1  0.226957  0.229270  0.436957   0.186900      82        1518   \n",
       "\n",
       "    cnt  \n",
       "0   985  \n",
       "1   801  \n",
       "2  1349  \n",
       "3  1562  \n",
       "4  1600  "
      ]
     },
     "execution_count": 1,
     "metadata": {},
     "output_type": "execute_result"
    }
   ],
   "source": [
    "import pandas as pd\n",
    "\n",
    "dados = pd.read_csv('day.csv')\n",
    "dados.head()"
   ]
  },
  {
   "cell_type": "code",
   "execution_count": 2,
   "metadata": {},
   "outputs": [],
   "source": [
    "import matplotlib.pyplot as plt"
   ]
  },
  {
   "cell_type": "code",
   "execution_count": 3,
   "metadata": {},
   "outputs": [
    {
     "data": {
      "text/plain": [
       "[<matplotlib.lines.Line2D at 0x7fc2282cdf60>]"
      ]
     },
     "execution_count": 3,
     "metadata": {},
     "output_type": "execute_result"
    },
    {
     "data": {
      "image/png": "[encoded data removed]",
      "text/plain": [
       "<Figure size 432x288 with 1 Axes>"
      ]
     },
     "metadata": {
      "needs_background": "light"
     },
     "output_type": "display_data"
    }
   ],
   "source": [
    "plt.plot(dados['temp'],dados['cnt'],'.')"
   ]
  },
  {
   "cell_type": "code",
   "execution_count": 4,
   "metadata": {},
   "outputs": [],
   "source": [
    "import numpy as np"
   ]
  },
  {
   "cell_type": "code",
   "execution_count": 5,
   "metadata": {},
   "outputs": [],
   "source": [
    "y = np.asarray(dados['cnt']) #Alvo"
   ]
  },
  {
   "cell_type": "code",
   "execution_count": 6,
   "metadata": {},
   "outputs": [
    {
     "name": "stdout",
     "output_type": "stream",
     "text": [
      "[[2.       0.363625]\n",
      " [2.       0.353739]\n",
      " [1.       0.189405]\n",
      " ...\n",
      " [2.       0.2424  ]\n",
      " [1.       0.2317  ]\n",
      " [2.       0.223487]]\n"
     ]
    }
   ],
   "source": [
    "X = np.asarray(dados[['weathersit','atemp']])\n",
    "print(X)"
   ]
  },
  {
   "cell_type": "code",
   "execution_count": 7,
   "metadata": {},
   "outputs": [
    {
     "name": "stdout",
     "output_type": "stream",
     "text": [
      "[[0.66666667 0.43242565]\n",
      " [0.66666667 0.42066914]\n",
      " [0.33333333 0.22524188]\n",
      " ...\n",
      " [0.66666667 0.28826395]\n",
      " [0.33333333 0.27553942]\n",
      " [0.66666667 0.26577246]]\n"
     ]
    }
   ],
   "source": [
    "#Escalar\n",
    "\n",
    "X = X/np.amax(X,axis=0)\n",
    "print(X)"
   ]
  },
  {
   "cell_type": "code",
   "execution_count": 8,
   "metadata": {},
   "outputs": [],
   "source": [
    "ymax=np.amax(y)\n",
    "y = y/ymax"
   ]
  },
  {
   "cell_type": "code",
   "execution_count": 9,
   "metadata": {},
   "outputs": [],
   "source": [
    "arquitetura = [\n",
    "    {\"dim_entrada\": 2, \"dim_saida\": 25, \"ativacao\": \"relu\"},\n",
    "    {\"dim_entrada\": 25, \"dim_saida\": 1, \"ativacao\": \"sigmoid\"},\n",
    "]"
   ]
  },
  {
   "cell_type": "code",
   "execution_count": 10,
   "metadata": {},
   "outputs": [],
   "source": [
    "def inicia_camadas(arquitetura, seed = 99):\n",
    "    # inicia os valores aleatórios\n",
    "    np.random.seed(seed)\n",
    "    # numero de camadas da rede neural\n",
    "    numero_de_camadas = len(arquitetura)\n",
    "    # inicia armazenamento de parametros\n",
    "    valores_parametros = {}\n",
    "    \n",
    "    # itera nas camadas da rede\n",
    "    for indice, camada in enumerate(arquitetura):\n",
    "        \n",
    "        indice_camada = indice + 1\n",
    "        \n",
    "        # extrai o numero de nodos nas camadas\n",
    "        tamanho_camada_entrada = camada[\"dim_entrada\"]\n",
    "        tamanho_camada_saida = camada[\"dim_saida\"]\n",
    "        \n",
    "        # inicia os valores na matriz de pesos P\n",
    "        # e o vetor de bias b\n",
    "        valores_parametros['P' + str(indice_camada)] = np.random.randn(\n",
    "            tamanho_camada_saida, tamanho_camada_entrada) * 0.1\n",
    "        valores_parametros['b' + str(indice_camada)] = np.random.randn(\n",
    "            tamanho_camada_saida, 1) * 0.1\n",
    "        \n",
    "    return valores_parametros"
   ]
  },
  {
   "cell_type": "code",
   "execution_count": 11,
   "metadata": {},
   "outputs": [],
   "source": [
    "def sigmoid(Z):\n",
    "    return 1/(1+np.exp(-Z))\n",
    "\n",
    "def relu(Z):\n",
    "    return np.maximum(0,Z)\n",
    "\n",
    "def sigmoid_retro(dA, Z):\n",
    "    sig = sigmoid(Z)\n",
    "    return dA * sig * (1 - sig)\n",
    "\n",
    "def relu_retro(dA, Z):\n",
    "    dZ = np.array(dA, copy = True)\n",
    "    dZ[Z <= 0] = 0;\n",
    "    return dZ;"
   ]
  },
  {
   "cell_type": "code",
   "execution_count": 12,
   "metadata": {},
   "outputs": [],
   "source": [
    "def propaga_uma_camada(Ativado_anterior, Pesos_atual, b_atual, ativacao=\"relu\"):\n",
    "    # cálculo da entrada para a função de ativação\n",
    "    Z_atual = np.dot(Pesos_atual, Ativado_anterior) + b_atual\n",
    "    \n",
    "    # selecção da função de ativação\n",
    "    if ativacao is \"relu\":\n",
    "        func_ativacao = relu\n",
    "    elif ativacao is \"sigmoid\":\n",
    "        func_ativacao = sigmoid\n",
    "    else:\n",
    "        raise Exception('Ainda não implementamos essa funcao')\n",
    "        \n",
    "    # retorna a ativação calculada A_atual e a matriz intermediária Z\n",
    "    return func_ativacao(Z_atual), Z_atual"
   ]
  },
  {
   "cell_type": "code",
   "execution_count": 13,
   "metadata": {},
   "outputs": [],
   "source": [
    "def propaga_total(X, valores_parametros, arquitetura):\n",
    "    # memoria temporaria para a retropropagacao\n",
    "    memoria = {}\n",
    "    # O vetor X é a ativação para a camada 0 \n",
    "    Ativado_atual = X\n",
    "    \n",
    "    # iterações para as camadas\n",
    "    for indice, camada in enumerate(arquitetura):\n",
    "        # a numeração das camadas começa de 1\n",
    "        indice_camada = indice + 1\n",
    "        # utiliza a ativação da iteração anterior\n",
    "        Ativado_anterior = Ativado_atual\n",
    "        \n",
    "        # extrai a função de ativação para a camada atual\n",
    "        func_ativacao_atual = camada[\"ativacao\"]\n",
    "        # extrai os pesos da camada atual\n",
    "        Pesos_atual = valores_parametros[\"P\" + str(indice_camada)]\n",
    "        # extrai o bias para a camada atual\n",
    "        b_atual = valores_parametros[\"b\" + str(indice_camada)]\n",
    "        # cálculo da ativação para a camada atual\n",
    "        Ativado_atual, Z_atual = propaga_uma_camada(Ativado_anterior, Pesos_atual, b_atual, func_ativacao_atual)\n",
    "        \n",
    "        # salca os valores calculados na memória\n",
    "        memoria[\"A\" + str(indice)] = Ativado_anterior\n",
    "        memoria[\"Z\" + str(indice_camada)] = Z_atual\n",
    "       \n",
    "    # retorna o vetor predito e um dicionário contendo os valores intermediários\n",
    "    return Ativado_atual, memoria"
   ]
  },
  {
   "cell_type": "code",
   "execution_count": 14,
   "metadata": {},
   "outputs": [],
   "source": [
    "def valor_de_custo(Y_predito, Y):\n",
    "    # numero_de_exemplos\n",
    "    m = Y_predito.shape[1]\n",
    "    \n",
    "    custo = -1 / m * (np.dot(Y, np.log(Y_predito).T) + np.dot(1 - Y, np.log(1 - Y_predito).T))\n",
    "    return np.squeeze(custo)"
   ]
  },
  {
   "cell_type": "code",
   "execution_count": null,
   "metadata": {},
   "outputs": [],
   "source": []
  },
  {
   "cell_type": "code",
   "execution_count": null,
   "metadata": {},
   "outputs": [],
   "source": []
  },
  {
   "cell_type": "code",
   "execution_count": 15,
   "metadata": {},
   "outputs": [],
   "source": [
    "def retropropagacao_uma_camada(dA_atual, Pesos_atual, b_atual, Z_atual, A_anterior, ativacao=\"relu\"):\n",
    "    # number of examples\n",
    "    m = A_anterior.shape[1]\n",
    "    \n",
    "    # seleção função de ativação\n",
    "    if ativacao is \"relu\":\n",
    "        func_ativacao_retro = relu_retro\n",
    "    elif ativacao is \"sigmoid\":\n",
    "        func_ativacao_retro = sigmoid_retro\n",
    "    else:\n",
    "        raise Exception('Ainda não implementamos essa funcao')\n",
    "    \n",
    "    # derivada da função de ativação\n",
    "    dZ_atual = func_ativacao_retro(dA_atual, Z_atual)\n",
    "    \n",
    "    # derivada da matriz de Pesos\n",
    "    dP_atual = np.dot(dZ_atual, A_anterior.T) / m\n",
    "    # derivada do vetor b\n",
    "    db_atual = np.sum(dZ_atual, axis=1, keepdims=True) / m\n",
    "    # derivada da matriz A_anterior\n",
    "    dA_anterior = np.dot(Pesos_atual.T, dZ_atual)\n",
    "\n",
    "    return dA_anterior, dP_atual, db_atual"
   ]
  },
  {
   "cell_type": "code",
   "execution_count": 16,
   "metadata": {},
   "outputs": [],
   "source": [
    "def retropropagacao_total(Y_predito, Y, memoria, valores_parametros, arquitetura):\n",
    "    gradientes = {}\n",
    "    \n",
    "    # numero de exemplos\n",
    "    m = Y.shape[1]\n",
    "    # para garantir que os dois vetores tenham a mesma dimensão\n",
    "    Y = Y.reshape(Y_predito.shape)\n",
    "    \n",
    "    # inicia o algoritmo de gradiente decendente\n",
    "    dA_anterior = - (np.divide(Y, Y_predito) - np.divide(1 - Y, 1 - Y_predito));\n",
    "    \n",
    "    for indice_camada_anterior, camada in reversed(list(enumerate(arquitetura))):\n",
    "        \n",
    "        indice_camada_atual = indice_camada_anterior + 1\n",
    "        # Função de ativação para a camada atual\n",
    "        \n",
    "        funcao_ativao_atual = camada[\"ativacao\"]\n",
    "        \n",
    "        dA_atual = dA_anterior\n",
    "        \n",
    "        A_anterior = memoria[\"A\" + str(indice_camada_anterior)]\n",
    "        Z_atual = memoria[\"Z\" + str(indice_camada_atual)]\n",
    "        \n",
    "        Pesos_atual = valores_parametros[\"P\" + str(indice_camada_atual)]\n",
    "        b_atual = valores_parametros[\"b\" + str(indice_camada_atual)]\n",
    "        \n",
    "        dA_anterior, dP_atual, db_atual = retropropagacao_uma_camada(\n",
    "            dA_atual, Pesos_atual, b_atual, Z_atual, A_anterior, funcao_ativao_atual)\n",
    "        \n",
    "        gradientes[\"dP\" + str(indice_camada_atual)] = dP_atual\n",
    "        gradientes[\"db\" + str(indice_camada_atual)] = db_atual\n",
    "    \n",
    "    return gradientes"
   ]
  },
  {
   "cell_type": "code",
   "execution_count": 17,
   "metadata": {},
   "outputs": [],
   "source": [
    "def atualiza(valores_parametros, gradidentes, arquitetura, taxa_aprendizagem):\n",
    "\n",
    "    # iterações pelas camadas\n",
    "    for indice_camada, camada in enumerate(arquitetura, 1):\n",
    "        valores_parametros[\"P\" + str(indice_camada)] -= taxa_aprendizagem * gradidentes[\"dP\" + str(indice_camada)]        \n",
    "        valores_parametros[\"b\" + str(indice_camada)] -= taxa_aprendizagem * gradidentes[\"db\" + str(indice_camada)]\n",
    "\n",
    "    return valores_parametros;"
   ]
  },
  {
   "cell_type": "code",
   "execution_count": 18,
   "metadata": {},
   "outputs": [],
   "source": [
    "def treino(X, Y, arquitetura, epocas, taxa_aprendizagem):\n",
    "    # Inicia os parâmetros da rede neural\n",
    "    valores_parametros = inicia_camadas(arquitetura, 2)\n",
    "    # Listas que vão guardar o progresso da aprendizagem da rede \n",
    "    historia_custo = []\n",
    "   \n",
    "    \n",
    "    # Atualiza a cada época\n",
    "    for i in range(epocas):\n",
    "        # Propaga a rede - Foward propagation\n",
    "        Y_predito, memoria = propaga_total(X, valores_parametros, arquitetura)\n",
    "        \n",
    "        # calcula as métricas e salva nas listas de historia\n",
    "        custo = valor_de_custo(Y_predito, Y)\n",
    "        historia_custo.append(custo)\n",
    "        \n",
    "        \n",
    "        # Retropropagação - Backpropagation\n",
    "        gradientes = retropropagacao_total(Y_predito, Y, memoria, valores_parametros, arquitetura)\n",
    "        # Atualiza os pesos\n",
    "        valores_parametros = atualiza(valores_parametros, gradientes, arquitetura, taxa_aprendizagem)\n",
    "        \n",
    "        if(i % 50 == 0):\n",
    "            \n",
    "            print(\"Iteração: {:05} - custo: {:.5f} \".format(i, custo))\n",
    "            \n",
    "            \n",
    "    return valores_parametros, historia_custo"
   ]
  },
  {
   "cell_type": "code",
   "execution_count": 19,
   "metadata": {},
   "outputs": [],
   "source": [
    "from sklearn.model_selection import train_test_split"
   ]
  },
  {
   "cell_type": "code",
   "execution_count": 20,
   "metadata": {},
   "outputs": [],
   "source": [
    "# number of samples in the data set\n",
    "N_SAMPLES = 731\n",
    "# ratio between training and test sets\n",
    "TEST_SIZE = 0.1\n",
    "#arquitetura = NN_ARCHITECTURE"
   ]
  },
  {
   "cell_type": "code",
   "execution_count": 21,
   "metadata": {},
   "outputs": [
    {
     "data": {
      "text/plain": [
       "(731,)"
      ]
     },
     "execution_count": 21,
     "metadata": {},
     "output_type": "execute_result"
    }
   ],
   "source": [
    "y.shape"
   ]
  },
  {
   "cell_type": "code",
   "execution_count": 22,
   "metadata": {},
   "outputs": [],
   "source": [
    "X_treino = X\n",
    "y_treino = y"
   ]
  },
  {
   "cell_type": "code",
   "execution_count": 23,
   "metadata": {},
   "outputs": [
    {
     "name": "stdout",
     "output_type": "stream",
     "text": [
      "Iteração: 00000 - custo: 0.69332 \n",
      "Iteração: 00050 - custo: 0.69304 \n",
      "Iteração: 00100 - custo: 0.69282 \n",
      "Iteração: 00150 - custo: 0.69262 \n",
      "Iteração: 00200 - custo: 0.69244 \n",
      "Iteração: 00250 - custo: 0.69229 \n",
      "Iteração: 00300 - custo: 0.69213 \n",
      "Iteração: 00350 - custo: 0.69196 \n",
      "Iteração: 00400 - custo: 0.69179 \n",
      "Iteração: 00450 - custo: 0.69161 \n",
      "Iteração: 00500 - custo: 0.69144 \n",
      "Iteração: 00550 - custo: 0.69128 \n",
      "Iteração: 00600 - custo: 0.69115 \n",
      "Iteração: 00650 - custo: 0.69102 \n",
      "Iteração: 00700 - custo: 0.69090 \n",
      "Iteração: 00750 - custo: 0.69078 \n",
      "Iteração: 00800 - custo: 0.69067 \n",
      "Iteração: 00850 - custo: 0.69055 \n",
      "Iteração: 00900 - custo: 0.69043 \n",
      "Iteração: 00950 - custo: 0.69031 \n",
      "Iteração: 01000 - custo: 0.69019 \n",
      "Iteração: 01050 - custo: 0.69007 \n",
      "Iteração: 01100 - custo: 0.68995 \n",
      "Iteração: 01150 - custo: 0.68983 \n",
      "Iteração: 01200 - custo: 0.68970 \n",
      "Iteração: 01250 - custo: 0.68958 \n",
      "Iteração: 01300 - custo: 0.68945 \n",
      "Iteração: 01350 - custo: 0.68932 \n",
      "Iteração: 01400 - custo: 0.68919 \n",
      "Iteração: 01450 - custo: 0.68906 \n",
      "Iteração: 01500 - custo: 0.68892 \n",
      "Iteração: 01550 - custo: 0.68878 \n",
      "Iteração: 01600 - custo: 0.68865 \n",
      "Iteração: 01650 - custo: 0.68850 \n",
      "Iteração: 01700 - custo: 0.68836 \n",
      "Iteração: 01750 - custo: 0.68821 \n",
      "Iteração: 01800 - custo: 0.68807 \n",
      "Iteração: 01850 - custo: 0.68792 \n",
      "Iteração: 01900 - custo: 0.68776 \n",
      "Iteração: 01950 - custo: 0.68761 \n",
      "Iteração: 02000 - custo: 0.68745 \n",
      "Iteração: 02050 - custo: 0.68729 \n",
      "Iteração: 02100 - custo: 0.68712 \n",
      "Iteração: 02150 - custo: 0.68696 \n",
      "Iteração: 02200 - custo: 0.68679 \n",
      "Iteração: 02250 - custo: 0.68662 \n",
      "Iteração: 02300 - custo: 0.68644 \n",
      "Iteração: 02350 - custo: 0.68626 \n",
      "Iteração: 02400 - custo: 0.68608 \n",
      "Iteração: 02450 - custo: 0.68590 \n",
      "Iteração: 02500 - custo: 0.68571 \n",
      "Iteração: 02550 - custo: 0.68552 \n",
      "Iteração: 02600 - custo: 0.68533 \n",
      "Iteração: 02650 - custo: 0.68514 \n",
      "Iteração: 02700 - custo: 0.68494 \n",
      "Iteração: 02750 - custo: 0.68474 \n",
      "Iteração: 02800 - custo: 0.68454 \n",
      "Iteração: 02850 - custo: 0.68433 \n",
      "Iteração: 02900 - custo: 0.68412 \n",
      "Iteração: 02950 - custo: 0.68391 \n",
      "Iteração: 03000 - custo: 0.68369 \n",
      "Iteração: 03050 - custo: 0.68347 \n",
      "Iteração: 03100 - custo: 0.68325 \n",
      "Iteração: 03150 - custo: 0.68302 \n",
      "Iteração: 03200 - custo: 0.68279 \n",
      "Iteração: 03250 - custo: 0.68256 \n",
      "Iteração: 03300 - custo: 0.68232 \n",
      "Iteração: 03350 - custo: 0.68208 \n",
      "Iteração: 03400 - custo: 0.68184 \n",
      "Iteração: 03450 - custo: 0.68159 \n",
      "Iteração: 03500 - custo: 0.68135 \n",
      "Iteração: 03550 - custo: 0.68109 \n",
      "Iteração: 03600 - custo: 0.68084 \n",
      "Iteração: 03650 - custo: 0.68058 \n",
      "Iteração: 03700 - custo: 0.68032 \n",
      "Iteração: 03750 - custo: 0.68005 \n",
      "Iteração: 03800 - custo: 0.67978 \n",
      "Iteração: 03850 - custo: 0.67951 \n",
      "Iteração: 03900 - custo: 0.67924 \n",
      "Iteração: 03950 - custo: 0.67896 \n",
      "Iteração: 04000 - custo: 0.67868 \n",
      "Iteração: 04050 - custo: 0.67840 \n",
      "Iteração: 04100 - custo: 0.67811 \n",
      "Iteração: 04150 - custo: 0.67782 \n",
      "Iteração: 04200 - custo: 0.67753 \n",
      "Iteração: 04250 - custo: 0.67723 \n",
      "Iteração: 04300 - custo: 0.67694 \n",
      "Iteração: 04350 - custo: 0.67664 \n",
      "Iteração: 04400 - custo: 0.67633 \n",
      "Iteração: 04450 - custo: 0.67603 \n",
      "Iteração: 04500 - custo: 0.67572 \n",
      "Iteração: 04550 - custo: 0.67541 \n",
      "Iteração: 04600 - custo: 0.67510 \n",
      "Iteração: 04650 - custo: 0.67479 \n",
      "Iteração: 04700 - custo: 0.67448 \n",
      "Iteração: 04750 - custo: 0.67416 \n",
      "Iteração: 04800 - custo: 0.67384 \n",
      "Iteração: 04850 - custo: 0.67352 \n",
      "Iteração: 04900 - custo: 0.67320 \n",
      "Iteração: 04950 - custo: 0.67288 \n",
      "Iteração: 05000 - custo: 0.67255 \n",
      "Iteração: 05050 - custo: 0.67223 \n",
      "Iteração: 05100 - custo: 0.67190 \n",
      "Iteração: 05150 - custo: 0.67157 \n",
      "Iteração: 05200 - custo: 0.67124 \n",
      "Iteração: 05250 - custo: 0.67091 \n",
      "Iteração: 05300 - custo: 0.67058 \n",
      "Iteração: 05350 - custo: 0.67025 \n",
      "Iteração: 05400 - custo: 0.66992 \n",
      "Iteração: 05450 - custo: 0.66959 \n",
      "Iteração: 05500 - custo: 0.66926 \n",
      "Iteração: 05550 - custo: 0.66893 \n",
      "Iteração: 05600 - custo: 0.66860 \n",
      "Iteração: 05650 - custo: 0.66826 \n",
      "Iteração: 05700 - custo: 0.66793 \n",
      "Iteração: 05750 - custo: 0.66760 \n",
      "Iteração: 05800 - custo: 0.66727 \n",
      "Iteração: 05850 - custo: 0.66694 \n",
      "Iteração: 05900 - custo: 0.66661 \n",
      "Iteração: 05950 - custo: 0.66629 \n",
      "Iteração: 06000 - custo: 0.66596 \n",
      "Iteração: 06050 - custo: 0.66563 \n",
      "Iteração: 06100 - custo: 0.66531 \n",
      "Iteração: 06150 - custo: 0.66499 \n",
      "Iteração: 06200 - custo: 0.66467 \n",
      "Iteração: 06250 - custo: 0.66435 \n",
      "Iteração: 06300 - custo: 0.66403 \n",
      "Iteração: 06350 - custo: 0.66371 \n",
      "Iteração: 06400 - custo: 0.66340 \n",
      "Iteração: 06450 - custo: 0.66309 \n",
      "Iteração: 06500 - custo: 0.66278 \n",
      "Iteração: 06550 - custo: 0.66247 \n",
      "Iteração: 06600 - custo: 0.66217 \n",
      "Iteração: 06650 - custo: 0.66187 \n",
      "Iteração: 06700 - custo: 0.66157 \n",
      "Iteração: 06750 - custo: 0.66127 \n",
      "Iteração: 06800 - custo: 0.66098 \n",
      "Iteração: 06850 - custo: 0.66069 \n",
      "Iteração: 06900 - custo: 0.66040 \n",
      "Iteração: 06950 - custo: 0.66011 \n",
      "Iteração: 07000 - custo: 0.65983 \n",
      "Iteração: 07050 - custo: 0.65955 \n",
      "Iteração: 07100 - custo: 0.65928 \n",
      "Iteração: 07150 - custo: 0.65901 \n",
      "Iteração: 07200 - custo: 0.65874 \n",
      "Iteração: 07250 - custo: 0.65847 \n",
      "Iteração: 07300 - custo: 0.65821 \n",
      "Iteração: 07350 - custo: 0.65795 \n",
      "Iteração: 07400 - custo: 0.65770 \n",
      "Iteração: 07450 - custo: 0.65745 \n",
      "Iteração: 07500 - custo: 0.65720 \n",
      "Iteração: 07550 - custo: 0.65696 \n",
      "Iteração: 07600 - custo: 0.65672 \n",
      "Iteração: 07650 - custo: 0.65648 \n",
      "Iteração: 07700 - custo: 0.65625 \n",
      "Iteração: 07750 - custo: 0.65602 \n",
      "Iteração: 07800 - custo: 0.65580 \n",
      "Iteração: 07850 - custo: 0.65558 \n",
      "Iteração: 07900 - custo: 0.65536 \n",
      "Iteração: 07950 - custo: 0.65514 \n",
      "Iteração: 08000 - custo: 0.65494 \n",
      "Iteração: 08050 - custo: 0.65473 \n",
      "Iteração: 08100 - custo: 0.65453 \n",
      "Iteração: 08150 - custo: 0.65433 \n",
      "Iteração: 08200 - custo: 0.65414 \n",
      "Iteração: 08250 - custo: 0.65395 \n",
      "Iteração: 08300 - custo: 0.65376 \n",
      "Iteração: 08350 - custo: 0.65358 \n",
      "Iteração: 08400 - custo: 0.65340 \n",
      "Iteração: 08450 - custo: 0.65322 \n",
      "Iteração: 08500 - custo: 0.65305 \n",
      "Iteração: 08550 - custo: 0.65288 \n",
      "Iteração: 08600 - custo: 0.65272 \n",
      "Iteração: 08650 - custo: 0.65256 \n",
      "Iteração: 08700 - custo: 0.65240 \n",
      "Iteração: 08750 - custo: 0.65224 \n",
      "Iteração: 08800 - custo: 0.65209 \n",
      "Iteração: 08850 - custo: 0.65194 \n",
      "Iteração: 08900 - custo: 0.65180 \n",
      "Iteração: 08950 - custo: 0.65166 \n",
      "Iteração: 09000 - custo: 0.65152 \n",
      "Iteração: 09050 - custo: 0.65138 \n",
      "Iteração: 09100 - custo: 0.65125 \n",
      "Iteração: 09150 - custo: 0.65112 \n",
      "Iteração: 09200 - custo: 0.65100 \n",
      "Iteração: 09250 - custo: 0.65087 \n",
      "Iteração: 09300 - custo: 0.65075 \n",
      "Iteração: 09350 - custo: 0.65064 \n",
      "Iteração: 09400 - custo: 0.65052 \n",
      "Iteração: 09450 - custo: 0.65041 \n",
      "Iteração: 09500 - custo: 0.65030 \n",
      "Iteração: 09550 - custo: 0.65020 \n",
      "Iteração: 09600 - custo: 0.65009 \n",
      "Iteração: 09650 - custo: 0.64999 \n",
      "Iteração: 09700 - custo: 0.64989 \n",
      "Iteração: 09750 - custo: 0.64980 \n",
      "Iteração: 09800 - custo: 0.64970 \n",
      "Iteração: 09850 - custo: 0.64961 \n",
      "Iteração: 09900 - custo: 0.64953 \n",
      "Iteração: 09950 - custo: 0.64944 \n"
     ]
    }
   ],
   "source": [
    "# Treinamento\n",
    "valores_parametros, historia_custo = treino(np.transpose(X_treino), np.transpose(y_treino.reshape((y_treino.shape[0], 1))), arquitetura, 10000, 0.01)"
   ]
  },
  {
   "cell_type": "code",
   "execution_count": 24,
   "metadata": {},
   "outputs": [
    {
     "data": {
      "image/png": "[encoded data removed]",
      "text/plain": [
       "<Figure size 432x288 with 1 Axes>"
      ]
     },
     "metadata": {
      "needs_background": "light"
     },
     "output_type": "display_data"
    }
   ],
   "source": [
    "plt.plot(historia_custo)\n",
    "plt.show()"
   ]
  },
  {
   "cell_type": "code",
   "execution_count": 25,
   "metadata": {},
   "outputs": [],
   "source": [
    "# Previsão\n",
    "Y_pred, _ = propaga_total(np.transpose(X), valores_parametros, arquitetura)"
   ]
  },
  {
   "cell_type": "code",
   "execution_count": 26,
   "metadata": {},
   "outputs": [
    {
     "data": {
      "image/png": "[encoded data removed]",
      "text/plain": [
       "<Figure size 432x288 with 1 Axes>"
      ]
     },
     "metadata": {
      "needs_background": "light"
     },
     "output_type": "display_data"
    }
   ],
   "source": [
    "plt.plot(ymax*y)\n",
    "plt.plot(ymax*Y_pred.reshape([-1,1]))\n",
    "plt.show()"
   ]
  },
  {
   "cell_type": "code",
   "execution_count": null,
   "metadata": {},
   "outputs": [],
   "source": []
  },
  {
   "cell_type": "code",
   "execution_count": null,
   "metadata": {},
   "outputs": [],
   "source": []
  }
 ],
 "metadata": {
  "kernelspec": {
   "display_name": "Python 3",
   "language": "python",
   "name": "python3"
  },
  "language_info": {
   "codemirror_mode": {
    "name": "ipython",
    "version": 3
   },
   "file_extension": ".py",
   "mimetype": "text/x-python",
   "name": "python",
   "nbconvert_exporter": "python",
   "pygments_lexer": "ipython3",
   "version": "3.6.7"
  }
 },
 "nbformat": 4,
 "nbformat_minor": 2
}
