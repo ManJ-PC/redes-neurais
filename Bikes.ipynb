{
 "cells": [
  {
   "cell_type": "markdown",
   "metadata": {},
   "source": [
    "# Bicicletas"
   ]
  },
  {
   "cell_type": "code",
   "execution_count": 1,
   "metadata": {},
   "outputs": [
    {
     "data": {
      "text/html": [
       "<div>\n",
       "<style scoped>\n",
       "    .dataframe tbody tr th:only-of-type {\n",
       "        vertical-align: middle;\n",
       "    }\n",
       "\n",
       "    .dataframe tbody tr th {\n",
       "        vertical-align: top;\n",
       "    }\n",
       "\n",
       "    .dataframe thead th {\n",
       "        text-align: right;\n",
       "    }\n",
       "</style>\n",
       "<table border=\"1\" class=\"dataframe\">\n",
       "  <thead>\n",
       "    <tr style=\"text-align: right;\">\n",
       "      <th></th>\n",
       "      <th>instant</th>\n",
       "      <th>dteday</th>\n",
       "      <th>season</th>\n",
       "      <th>yr</th>\n",
       "      <th>mnth</th>\n",
       "      <th>holiday</th>\n",
       "      <th>weekday</th>\n",
       "      <th>workingday</th>\n",
       "      <th>weathersit</th>\n",
       "      <th>temp</th>\n",
       "      <th>atemp</th>\n",
       "      <th>hum</th>\n",
       "      <th>windspeed</th>\n",
       "      <th>casual</th>\n",
       "      <th>registered</th>\n",
       "      <th>cnt</th>\n",
       "    </tr>\n",
       "  </thead>\n",
       "  <tbody>\n",
       "    <tr>\n",
       "      <th>0</th>\n",
       "      <td>1</td>\n",
       "      <td>2011-01-01</td>\n",
       "      <td>1</td>\n",
       "      <td>0</td>\n",
       "      <td>1</td>\n",
       "      <td>0</td>\n",
       "      <td>6</td>\n",
       "      <td>0</td>\n",
       "      <td>2</td>\n",
       "      <td>0.344167</td>\n",
       "      <td>0.363625</td>\n",
       "      <td>0.805833</td>\n",
       "      <td>0.160446</td>\n",
       "      <td>331</td>\n",
       "      <td>654</td>\n",
       "      <td>985</td>\n",
       "    </tr>\n",
       "    <tr>\n",
       "      <th>1</th>\n",
       "      <td>2</td>\n",
       "      <td>2011-01-02</td>\n",
       "      <td>1</td>\n",
       "      <td>0</td>\n",
       "      <td>1</td>\n",
       "      <td>0</td>\n",
       "      <td>0</td>\n",
       "      <td>0</td>\n",
       "      <td>2</td>\n",
       "      <td>0.363478</td>\n",
       "      <td>0.353739</td>\n",
       "      <td>0.696087</td>\n",
       "      <td>0.248539</td>\n",
       "      <td>131</td>\n",
       "      <td>670</td>\n",
       "      <td>801</td>\n",
       "    </tr>\n",
       "    <tr>\n",
       "      <th>2</th>\n",
       "      <td>3</td>\n",
       "      <td>2011-01-03</td>\n",
       "      <td>1</td>\n",
       "      <td>0</td>\n",
       "      <td>1</td>\n",
       "      <td>0</td>\n",
       "      <td>1</td>\n",
       "      <td>1</td>\n",
       "      <td>1</td>\n",
       "      <td>0.196364</td>\n",
       "      <td>0.189405</td>\n",
       "      <td>0.437273</td>\n",
       "      <td>0.248309</td>\n",
       "      <td>120</td>\n",
       "      <td>1229</td>\n",
       "      <td>1349</td>\n",
       "    </tr>\n",
       "    <tr>\n",
       "      <th>3</th>\n",
       "      <td>4</td>\n",
       "      <td>2011-01-04</td>\n",
       "      <td>1</td>\n",
       "      <td>0</td>\n",
       "      <td>1</td>\n",
       "      <td>0</td>\n",
       "      <td>2</td>\n",
       "      <td>1</td>\n",
       "      <td>1</td>\n",
       "      <td>0.200000</td>\n",
       "      <td>0.212122</td>\n",
       "      <td>0.590435</td>\n",
       "      <td>0.160296</td>\n",
       "      <td>108</td>\n",
       "      <td>1454</td>\n",
       "      <td>1562</td>\n",
       "    </tr>\n",
       "    <tr>\n",
       "      <th>4</th>\n",
       "      <td>5</td>\n",
       "      <td>2011-01-05</td>\n",
       "      <td>1</td>\n",
       "      <td>0</td>\n",
       "      <td>1</td>\n",
       "      <td>0</td>\n",
       "      <td>3</td>\n",
       "      <td>1</td>\n",
       "      <td>1</td>\n",
       "      <td>0.226957</td>\n",
       "      <td>0.229270</td>\n",
       "      <td>0.436957</td>\n",
       "      <td>0.186900</td>\n",
       "      <td>82</td>\n",
       "      <td>1518</td>\n",
       "      <td>1600</td>\n",
       "    </tr>\n",
       "  </tbody>\n",
       "</table>\n",
       "</div>"
      ],
      "text/plain": [
       "   instant      dteday  season  yr  mnth  holiday  weekday  workingday  \\\n",
       "0        1  2011-01-01       1   0     1        0        6           0   \n",
       "1        2  2011-01-02       1   0     1        0        0           0   \n",
       "2        3  2011-01-03       1   0     1        0        1           1   \n",
       "3        4  2011-01-04       1   0     1        0        2           1   \n",
       "4        5  2011-01-05       1   0     1        0        3           1   \n",
       "\n",
       "   weathersit      temp     atemp       hum  windspeed  casual  registered  \\\n",
       "0           2  0.344167  0.363625  0.805833   0.160446     331         654   \n",
       "1           2  0.363478  0.353739  0.696087   0.248539     131         670   \n",
       "2           1  0.196364  0.189405  0.437273   0.248309     120        1229   \n",
       "3           1  0.200000  0.212122  0.590435   0.160296     108        1454   \n",
       "4           1  0.226957  0.229270  0.436957   0.186900      82        1518   \n",
       "\n",
       "    cnt  \n",
       "0   985  \n",
       "1   801  \n",
       "2  1349  \n",
       "3  1562  \n",
       "4  1600  "
      ]
     },
     "execution_count": 1,
     "metadata": {},
     "output_type": "execute_result"
    }
   ],
   "source": [
    "import pandas as pd\n",
    "\n",
    "dados = pd.read_csv('day.csv')\n",
    "dados.head()"
   ]
  },
  {
   "cell_type": "markdown",
   "metadata": {},
   "source": [
    "# Que informações nós temos?"
   ]
  },
  {
   "cell_type": "code",
   "execution_count": 2,
   "metadata": {},
   "outputs": [],
   "source": [
    "import matplotlib.pyplot as plt"
   ]
  },
  {
   "cell_type": "code",
   "execution_count": 3,
   "metadata": {},
   "outputs": [
    {
     "data": {
      "text/plain": [
       "Text(0.5, 0, 'Temperatura')"
      ]
     },
     "execution_count": 3,
     "metadata": {},
     "output_type": "execute_result"
    },
    {
     "data": {
      "image/png": "[encoded data removed]",
      "text/plain": [
       "<Figure size 432x288 with 1 Axes>"
      ]
     },
     "metadata": {
      "needs_background": "light"
     },
     "output_type": "display_data"
    }
   ],
   "source": [
    "plt.plot(dados['atemp'],dados['cnt'],'.')\n",
    "plt.ylabel('Aluguéis')\n",
    "plt.xlabel('Temperatura')"
   ]
  },
  {
   "cell_type": "code",
   "execution_count": 4,
   "metadata": {},
   "outputs": [
    {
     "data": {
      "text/plain": [
       "Text(0.5, 0, 'Humidade')"
      ]
     },
     "execution_count": 4,
     "metadata": {},
     "output_type": "execute_result"
    },
    {
     "data": {
      "image/png": "[encoded data removed]",
      "text/plain": [
       "<Figure size 432x288 with 1 Axes>"
      ]
     },
     "metadata": {
      "needs_background": "light"
     },
     "output_type": "display_data"
    }
   ],
   "source": [
    "plt.plot(dados['hum'],dados['cnt'],'.')\n",
    "plt.ylabel('Aluguéis')\n",
    "plt.xlabel('Humidade')"
   ]
  },
  {
   "cell_type": "code",
   "execution_count": 5,
   "metadata": {},
   "outputs": [
    {
     "data": {
      "text/plain": [
       "Text(0.5, 0, 'Velocidade do Vento')"
      ]
     },
     "execution_count": 5,
     "metadata": {},
     "output_type": "execute_result"
    },
    {
     "data": {
      "image/png": "[encoded data removed]",
      "text/plain": [
       "<Figure size 432x288 with 1 Axes>"
      ]
     },
     "metadata": {
      "needs_background": "light"
     },
     "output_type": "display_data"
    }
   ],
   "source": [
    "plt.plot(dados['windspeed'],dados['cnt'],'.')\n",
    "plt.ylabel('Aluguéis')\n",
    "plt.xlabel('Velocidade do Vento')"
   ]
  },
  {
   "cell_type": "code",
   "execution_count": 6,
   "metadata": {},
   "outputs": [
    {
     "data": {
      "text/plain": [
       "Text(0.5, 0, 'Situação do tempo')"
      ]
     },
     "execution_count": 6,
     "metadata": {},
     "output_type": "execute_result"
    },
    {
     "data": {
      "image/png": "[encoded data removed]",
      "text/plain": [
       "<Figure size 432x288 with 1 Axes>"
      ]
     },
     "metadata": {
      "needs_background": "light"
     },
     "output_type": "display_data"
    }
   ],
   "source": [
    "plt.plot(dados['weathersit'],dados['cnt'],'.')\n",
    "plt.ylabel('Aluguéis')\n",
    "plt.xlabel('Situação do tempo')"
   ]
  },
  {
   "cell_type": "markdown",
   "metadata": {},
   "source": [
    "## Defindo com quais dados vamos trabalhar"
   ]
  },
  {
   "cell_type": "code",
   "execution_count": 7,
   "metadata": {},
   "outputs": [],
   "source": [
    "import numpy as np"
   ]
  },
  {
   "cell_type": "code",
   "execution_count": 8,
   "metadata": {},
   "outputs": [],
   "source": [
    "y = np.asarray(dados['cnt']) #Alvo"
   ]
  },
  {
   "cell_type": "markdown",
   "metadata": {},
   "source": [
    "# Indo para frente"
   ]
  },
  {
   "cell_type": "markdown",
   "metadata": {},
   "source": [
    "<img src=\"fazer\">"
   ]
  },
  {
   "cell_type": "markdown",
   "metadata": {},
   "source": [
    "## Estrutura da Rede"
   ]
  },
  {
   "cell_type": "code",
   "execution_count": 9,
   "metadata": {},
   "outputs": [],
   "source": [
    "arquitetura = [\n",
    "    {\"entrada\": 2, \"saida\": 4, \"ativacao\": \"relu\"},\n",
    "    {\"entrada\": 4, \"saida\": 4, \"ativacao\": \"relu\"},\n",
    "    {\"entrada\": 4, \"saida\": 1, \"ativacao\": \"linear\"},\n",
    "]"
   ]
  },
  {
   "cell_type": "markdown",
   "metadata": {},
   "source": [
    "## Camada de Entrada"
   ]
  },
  {
   "cell_type": "code",
   "execution_count": 10,
   "metadata": {},
   "outputs": [
    {
     "name": "stdout",
     "output_type": "stream",
     "text": [
      "[[2.       0.363625]\n",
      " [2.       0.353739]\n",
      " [1.       0.189405]\n",
      " ...\n",
      " [2.       0.2424  ]\n",
      " [1.       0.2317  ]\n",
      " [2.       0.223487]]\n"
     ]
    }
   ],
   "source": [
    "X = np.asarray(dados[['weathersit','atemp']])\n",
    "print(X)"
   ]
  },
  {
   "cell_type": "markdown",
   "metadata": {},
   "source": [
    "## Pesos"
   ]
  },
  {
   "cell_type": "code",
   "execution_count": 11,
   "metadata": {},
   "outputs": [],
   "source": [
    "def inicia_camadas(arquitetura, seed = 99):\n",
    "    np.random.seed(seed)\n",
    "    numero_de_camadas = len(arquitetura)\n",
    "    valores_parametros = {}\n",
    "\n",
    "    for indice_camada, camada in enumerate(arquitetura):\n",
    "        camada_i = indice_camada + 1\n",
    "        tamanho_entrada = camada[\"entrada\"]\n",
    "        tamanho_saida = camada[\"saida\"]\n",
    "        \n",
    "        valores_parametros['P' + str(camada_i)] = np.random.randn(\n",
    "            tamanho_saida, tamanho_entrada) * 0.1\n",
    "        valores_parametros['b' + str(camada_i)] = np.random.randn(\n",
    "            tamanho_saida, 1) * 0.1\n",
    "        \n",
    "    return valores_parametros"
   ]
  },
  {
   "cell_type": "code",
   "execution_count": 12,
   "metadata": {},
   "outputs": [],
   "source": [
    "valores_parametros = inicia_camadas(arquitetura)"
   ]
  },
  {
   "cell_type": "code",
   "execution_count": 13,
   "metadata": {},
   "outputs": [
    {
     "name": "stdout",
     "output_type": "stream",
     "text": [
      "{'P1': array([[-0.01423588,  0.20572217],\n",
      "       [ 0.02832619,  0.1329812 ],\n",
      "       [-0.01546219, -0.00690309],\n",
      "       [ 0.07551805,  0.08256466]]), 'b1': array([[-0.01130692],\n",
      "       [-0.23678376],\n",
      "       [-0.01670494],\n",
      "       [ 0.0685398 ]]), 'P2': array([[ 0.00235001,  0.04562013,  0.02704928, -0.14350081],\n",
      "       [ 0.08828171, -0.05800817, -0.05015653,  0.05909533],\n",
      "       [-0.07316163,  0.02617555, -0.08557956, -0.01875259],\n",
      "       [-0.03734863, -0.0461971 , -0.08164661, -0.00451233]]), 'b2': array([[ 0.01213278],\n",
      "       [ 0.09259528],\n",
      "       [-0.05738197],\n",
      "       [ 0.00527031]]), 'P3': array([[0.22073106, 0.03918219, 0.04827134, 0.0433334 ]]), 'b3': array([[-0.17042917]])}\n"
     ]
    }
   ],
   "source": [
    "print(valores_parametros)"
   ]
  },
  {
   "cell_type": "markdown",
   "metadata": {},
   "source": [
    "## Funções de ativação"
   ]
  },
  {
   "cell_type": "code",
   "execution_count": 14,
   "metadata": {},
   "outputs": [],
   "source": [
    "def sigmoid(Z):\n",
    "    return 1/(1+np.exp(-Z))\n",
    "\n",
    "\n",
    "def relu(Z):\n",
    "    return np.maximum(0,Z)\n",
    "\n",
    "def linear(Z):\n",
    "    return Z"
   ]
  },
  {
   "cell_type": "markdown",
   "metadata": {},
   "source": [
    "## Foward Propagation"
   ]
  },
  {
   "cell_type": "code",
   "execution_count": 15,
   "metadata": {},
   "outputs": [],
   "source": [
    "def propaga_uma_camada(A_ant, P_atual, b_atual, ativacao='relu'):\n",
    "    \n",
    "    Z_atual = np.dot(P_atual, A_ant) + b_atual\n",
    "    \n",
    "    if ativacao is 'relu':\n",
    "        ativa = relu\n",
    "    else:\n",
    "        ativa = linear\n",
    "        \n",
    "    return Z_atual, ativa(Z_atual)"
   ]
  },
  {
   "cell_type": "markdown",
   "metadata": {},
   "source": [
    "\\begin{equation}\n",
    "    z^{[l]} = P^{[l]}.a^{[l-1]} + b^{[l]}\n",
    "\\end{equation}"
   ]
  },
  {
   "cell_type": "code",
   "execution_count": 16,
   "metadata": {},
   "outputs": [],
   "source": [
    "def propagacao_total(X, valores_parametros, arquitetura):\n",
    "    \n",
    "    A_atual = X\n",
    "    memoria = {}\n",
    "    \n",
    "    for indice_camada, camada in enumerate(arquitetura):\n",
    "        camada_i = indice_camada + 1\n",
    "        A_anterior = A_atual\n",
    "        \n",
    "        ativacao_atual = camada[\"ativacao\"]\n",
    "        P_atual = valores_parametros[\"P\" + str(camada_i)]\n",
    "        b_atual = valores_parametros[\"b\" + str(camada_i)]\n",
    "        A_atual, Z_atual = propaga_uma_camada(A_anterior, P_atual, b_atual, ativacao_atual)\n",
    "        \n",
    "        memory[\"A\" + str(indice_camada)] = A_anterior\n",
    "        memory[\"Z\" + str(camada_i)] = Z_atual\n",
    "       \n",
    "    return A_atual, memoria"
   ]
  },
  {
   "cell_type": "code",
   "execution_count": null,
   "metadata": {},
   "outputs": [],
   "source": []
  },
  {
   "cell_type": "markdown",
   "metadata": {},
   "source": [
    "## Medindo o erro - Loss function"
   ]
  },
  {
   "cell_type": "code",
   "execution_count": 17,
   "metadata": {},
   "outputs": [],
   "source": [
    "def mean_squared_error(y_verdadeiro, y_predito):\n",
    "    m = y_verdadeiro.shape[1]\n",
    "    MSE = (1/m)*np.power(y_verdadeiro-y_predito,2)\n",
    "    return MSE"
   ]
  },
  {
   "cell_type": "markdown",
   "metadata": {},
   "source": [
    "# Retropropagação - Backward propagation"
   ]
  },
  {
   "cell_type": "code",
   "execution_count": 1,
   "metadata": {},
   "outputs": [],
   "source": [
    "def linear_retro(dA, Z):\n",
    "    dZ=dA\n",
    "    return dZ\n",
    "\n",
    "\n",
    "def relu_retro(dA, Z):\n",
    "    dZ = np.array(dA, copy= True)\n",
    "    dZ[Z <= 0] = 0\n",
    "    return dZ;"
   ]
  },
  {
   "cell_type": "code",
   "execution_count": 2,
   "metadata": {},
   "outputs": [],
   "source": [
    "def retropropagacao_uma_camada(dA_atual, P_atual, b_atual, Z_atual, A_anterior, ativacao='relu'):\n",
    "    \n",
    "    m = A_anterior.shape[1]\n",
    "    \n",
    "    if ativacao is 'relu':\n",
    "        ativacao_retro = relu_retro\n",
    "    else:\n",
    "        ativacao_retro = linear_retro\n",
    "        \n",
    "    dZ_atual = ativacao_retro(dA_atual, Z_atual)\n",
    "    dP_atual = np.dot(dZ_atual, A_anterior.T) / m\n",
    "    db_atual = np.sum(dZ_atual, axis=1, keepdims=True) / m\n",
    "    dA_prev = np.dot(P_atual.T, dZ_atual)\n",
    "    \n",
    "    return dA_anterior, dP_atual, db_atual"
   ]
  },
  {
   "cell_type": "code",
   "execution_count": 3,
   "metadata": {},
   "outputs": [],
   "source": [
    "##Equações"
   ]
  },
  {
   "cell_type": "code",
   "execution_count": 4,
   "metadata": {},
   "outputs": [],
   "source": [
    "def retropropagacao_total(y_verdadeiro, y_predito, memoria, valores_parametros, arquitetura):\n",
    "    \n",
    "    valores_gradiente = {}\n",
    "    m = y_predito.shape[1]\n",
    "    y_predito = y_predito.reshape(y_verdadeiro.shape)\n",
    "    \n",
    "    dA_anterior = -(np.divide(y_verdadeiro - y_predito) -np.divide(1 - y_verdadeiro, 1 - y_predito))\n",
    "    \n",
    "    for indice_camada_anterior, camada in reversed(list(enumerate(arquitetura))):\n",
    "        indice_camada_atual = indice_camada_anterior + 1\n",
    "        ativacao_atual = layer[\"ativacao\"]\n",
    "        \n",
    "        dA_atual = dA_anterior\n",
    "        \n",
    "        A_anterior = memoria[\"A\" + str(indice_camada_anterior)]\n",
    "        Z_atual = memoria[\"Z\" + str(indice_camada_atual)]\n",
    "        P_atual = valores_parametros[\"P\" + str(indice_camada_atual)]\n",
    "        b_atual = valores_parametros[\"b\" + str(indice_camada_atual)]\n",
    "        \n",
    "        dA_anterior, dP_atual, db_atual = retropropagacao_uma_camada(\n",
    "        dA_atual, P_atual, b_atual, Z_atual, A_anterior, ativacao_atual)\n",
    "        \n",
    "        valores_gradiente[\"dW\" + str(indice_camada_atual)] = dP_atual\n",
    "        valores_gradiente[\"db\" + str(indice_camada_atual)] = db_atual\n",
    "        \n",
    "    return valores_gradiente\n",
    "        "
   ]
  },
  {
   "cell_type": "markdown",
   "metadata": {},
   "source": [
    "## Atualizando os valores dos parâmetros"
   ]
  },
  {
   "cell_type": "code",
   "execution_count": 5,
   "metadata": {},
   "outputs": [],
   "source": [
    "#Equação"
   ]
  },
  {
   "cell_type": "code",
   "execution_count": 7,
   "metadata": {},
   "outputs": [],
   "source": [
    "def atualiza(valores_parametros, valores_gradiente, arquitetura, taxa_aprendizagem):\n",
    "    for indice_camada, camada in enumerate(arquitetura):\n",
    "        valores_parametros[\"P\" + str(indice_camada)] -= taxa_aprendizagem * valores_gradientes[\"dP\" + str(indice_camada)]\n",
    "        valores_parametros[\"b\" + str(indice_camada)] -= taxa_aprendizagem * valores_gradientes[\"db\" + str(indice_camada)]\n",
    "        \n",
    "    return valores_parametros"
   ]
  },
  {
   "cell_type": "code",
   "execution_count": null,
   "metadata": {},
   "outputs": [],
   "source": []
  }
 ],
 "metadata": {
  "kernelspec": {
   "display_name": "Python 3",
   "language": "python",
   "name": "python3"
  },
  "language_info": {
   "codemirror_mode": {
    "name": "ipython",
    "version": 3
   },
   "file_extension": ".py",
   "mimetype": "text/x-python",
   "name": "python",
   "nbconvert_exporter": "python",
   "pygments_lexer": "ipython3",
   "version": "3.6.7"
  }
 },
 "nbformat": 4,
 "nbformat_minor": 2
}
